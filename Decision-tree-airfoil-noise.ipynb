{
 "cells": [
  {
   "cell_type": "raw",
   "id": "cde69b96",
   "metadata": {},
   "source": [
    "The Airfoil Self-Noise dataset is trying to explain the relationship between various aerodynamic parameters and the sound pressure level of an airfoil. The data was collected in a wind tunnel where the NACA 0012 airfoil was subjected to different angles of attack, chord lengths, free-stream velocities, and other parameters, and the resulting sound pressure levels were measured.\n",
    "\n",
    "The goal of the dataset is to predict the sound pressure level of an airfoil based on its aerodynamic parameters. This can be useful in designing more efficient and quieter airfoils for various applications, such as aircraft and wind turbines.\n",
    "\n",
    "The dataset can be used to develop and test various machine learning algorithms, such as regression and neural networks, to predict the sound pressure level based on the given parameters. By analyzing the dataset, researchers can also gain insights into the effects of different aerodynamic parameters on the sound pressure level of an airfoil, which can inform the design of more efficient and quieter airfoils in the future."
   ]
  },
  {
   "cell_type": "code",
   "execution_count": 111,
   "id": "a8fcaff3",
   "metadata": {},
   "outputs": [],
   "source": [
    "import pandas as pd\n",
    "from sklearn.tree import DecisionTreeRegressor\n",
    "\n",
    "# method 1 to visualize decision tree\n",
    "from sklearn.tree import export_graphviz\n",
    "\n",
    "# method 2 to visualize decision tree\n",
    "import matplotlib.pyplot as plt\n",
    "from sklearn.tree import plot_tree"
   ]
  },
  {
   "cell_type": "code",
   "execution_count": 112,
   "id": "87cafd83",
   "metadata": {},
   "outputs": [],
   "source": [
    "# load data\n",
    "df = pd.read_excel(\"air_foil.xlsx\")"
   ]
  },
  {
   "cell_type": "code",
   "execution_count": 113,
   "id": "a571aeaa",
   "metadata": {},
   "outputs": [
    {
     "data": {
      "text/plain": [
       "Index([' Frequency', ' Angle_of_attack', ' Chord_length',\n",
       "       ' Free_stream_velocity', 'Suction_side_displacement_thickness',\n",
       "       'sound_pressure_level'],\n",
       "      dtype='object')"
      ]
     },
     "execution_count": 113,
     "metadata": {},
     "output_type": "execute_result"
    }
   ],
   "source": [
    "#Check the column labels \n",
    "df.columns"
   ]
  },
  {
   "cell_type": "code",
   "execution_count": 114,
   "id": "e112ad5c",
   "metadata": {},
   "outputs": [
    {
     "data": {
      "text/plain": [
       " Frequency                             0\n",
       " Angle_of_attack                       0\n",
       " Chord_length                          0\n",
       " Free_stream_velocity                  0\n",
       "Suction_side_displacement_thickness    0\n",
       "sound_pressure_level                   0\n",
       "dtype: int64"
      ]
     },
     "execution_count": 114,
     "metadata": {},
     "output_type": "execute_result"
    }
   ],
   "source": [
    "#check for null values \n",
    "df.isna().sum()"
   ]
  },
  {
   "cell_type": "code",
   "execution_count": 115,
   "id": "b514c929",
   "metadata": {},
   "outputs": [],
   "source": [
    "# divide data into features and labels \n",
    "X=df[[' Frequency', ' Angle_of_attack', ' Chord_length',\n",
    "       ' Free_stream_velocity', 'Suction_side_displacement_thickness']]\n",
    "y=df.sound_pressure_level"
   ]
  },
  {
   "cell_type": "code",
   "execution_count": 116,
   "id": "82e23650",
   "metadata": {},
   "outputs": [
    {
     "data": {
      "text/html": [
       "<div>\n",
       "<style scoped>\n",
       "    .dataframe tbody tr th:only-of-type {\n",
       "        vertical-align: middle;\n",
       "    }\n",
       "\n",
       "    .dataframe tbody tr th {\n",
       "        vertical-align: top;\n",
       "    }\n",
       "\n",
       "    .dataframe thead th {\n",
       "        text-align: right;\n",
       "    }\n",
       "</style>\n",
       "<table border=\"1\" class=\"dataframe\">\n",
       "  <thead>\n",
       "    <tr style=\"text-align: right;\">\n",
       "      <th></th>\n",
       "      <th>Frequency</th>\n",
       "      <th>Angle_of_attack</th>\n",
       "      <th>Chord_length</th>\n",
       "      <th>Free_stream_velocity</th>\n",
       "      <th>Suction_side_displacement_thickness</th>\n",
       "    </tr>\n",
       "  </thead>\n",
       "  <tbody>\n",
       "    <tr>\n",
       "      <th>0</th>\n",
       "      <td>800</td>\n",
       "      <td>0.0</td>\n",
       "      <td>0.3048</td>\n",
       "      <td>71.3</td>\n",
       "      <td>0.002663</td>\n",
       "    </tr>\n",
       "    <tr>\n",
       "      <th>1</th>\n",
       "      <td>1000</td>\n",
       "      <td>0.0</td>\n",
       "      <td>0.3048</td>\n",
       "      <td>71.3</td>\n",
       "      <td>0.002663</td>\n",
       "    </tr>\n",
       "    <tr>\n",
       "      <th>2</th>\n",
       "      <td>1250</td>\n",
       "      <td>0.0</td>\n",
       "      <td>0.3048</td>\n",
       "      <td>71.3</td>\n",
       "      <td>0.002663</td>\n",
       "    </tr>\n",
       "    <tr>\n",
       "      <th>3</th>\n",
       "      <td>1600</td>\n",
       "      <td>0.0</td>\n",
       "      <td>0.3048</td>\n",
       "      <td>71.3</td>\n",
       "      <td>0.002663</td>\n",
       "    </tr>\n",
       "    <tr>\n",
       "      <th>4</th>\n",
       "      <td>2000</td>\n",
       "      <td>0.0</td>\n",
       "      <td>0.3048</td>\n",
       "      <td>71.3</td>\n",
       "      <td>0.002663</td>\n",
       "    </tr>\n",
       "    <tr>\n",
       "      <th>...</th>\n",
       "      <td>...</td>\n",
       "      <td>...</td>\n",
       "      <td>...</td>\n",
       "      <td>...</td>\n",
       "      <td>...</td>\n",
       "    </tr>\n",
       "    <tr>\n",
       "      <th>1498</th>\n",
       "      <td>2500</td>\n",
       "      <td>15.6</td>\n",
       "      <td>0.1016</td>\n",
       "      <td>39.6</td>\n",
       "      <td>0.052849</td>\n",
       "    </tr>\n",
       "    <tr>\n",
       "      <th>1499</th>\n",
       "      <td>3150</td>\n",
       "      <td>15.6</td>\n",
       "      <td>0.1016</td>\n",
       "      <td>39.6</td>\n",
       "      <td>0.052849</td>\n",
       "    </tr>\n",
       "    <tr>\n",
       "      <th>1500</th>\n",
       "      <td>4000</td>\n",
       "      <td>15.6</td>\n",
       "      <td>0.1016</td>\n",
       "      <td>39.6</td>\n",
       "      <td>0.052849</td>\n",
       "    </tr>\n",
       "    <tr>\n",
       "      <th>1501</th>\n",
       "      <td>5000</td>\n",
       "      <td>15.6</td>\n",
       "      <td>0.1016</td>\n",
       "      <td>39.6</td>\n",
       "      <td>0.052849</td>\n",
       "    </tr>\n",
       "    <tr>\n",
       "      <th>1502</th>\n",
       "      <td>6300</td>\n",
       "      <td>15.6</td>\n",
       "      <td>0.1016</td>\n",
       "      <td>39.6</td>\n",
       "      <td>0.052849</td>\n",
       "    </tr>\n",
       "  </tbody>\n",
       "</table>\n",
       "<p>1503 rows × 5 columns</p>\n",
       "</div>"
      ],
      "text/plain": [
       "       Frequency   Angle_of_attack   Chord_length   Free_stream_velocity  \\\n",
       "0            800               0.0         0.3048                   71.3   \n",
       "1           1000               0.0         0.3048                   71.3   \n",
       "2           1250               0.0         0.3048                   71.3   \n",
       "3           1600               0.0         0.3048                   71.3   \n",
       "4           2000               0.0         0.3048                   71.3   \n",
       "...          ...               ...            ...                    ...   \n",
       "1498        2500              15.6         0.1016                   39.6   \n",
       "1499        3150              15.6         0.1016                   39.6   \n",
       "1500        4000              15.6         0.1016                   39.6   \n",
       "1501        5000              15.6         0.1016                   39.6   \n",
       "1502        6300              15.6         0.1016                   39.6   \n",
       "\n",
       "      Suction_side_displacement_thickness  \n",
       "0                                0.002663  \n",
       "1                                0.002663  \n",
       "2                                0.002663  \n",
       "3                                0.002663  \n",
       "4                                0.002663  \n",
       "...                                   ...  \n",
       "1498                             0.052849  \n",
       "1499                             0.052849  \n",
       "1500                             0.052849  \n",
       "1501                             0.052849  \n",
       "1502                             0.052849  \n",
       "\n",
       "[1503 rows x 5 columns]"
      ]
     },
     "execution_count": 116,
     "metadata": {},
     "output_type": "execute_result"
    }
   ],
   "source": [
    "#check features \n",
    "X"
   ]
  },
  {
   "cell_type": "code",
   "execution_count": 117,
   "id": "089361e7",
   "metadata": {},
   "outputs": [
    {
     "data": {
      "text/plain": [
       "0       126.201\n",
       "1       125.201\n",
       "2       125.951\n",
       "3       127.591\n",
       "4       127.461\n",
       "         ...   \n",
       "1498    110.264\n",
       "1499    109.254\n",
       "1500    106.604\n",
       "1501    106.224\n",
       "1502    104.204\n",
       "Name: sound_pressure_level, Length: 1503, dtype: float64"
      ]
     },
     "execution_count": 117,
     "metadata": {},
     "output_type": "execute_result"
    }
   ],
   "source": [
    "# check labels \n",
    "y"
   ]
  },
  {
   "cell_type": "code",
   "execution_count": 118,
   "id": "0b30eb9a",
   "metadata": {},
   "outputs": [],
   "source": [
    "# creating a decision tree regressor with random state 0\n",
    "regression =DecisionTreeRegressor(random_state=0)"
   ]
  },
  {
   "cell_type": "code",
   "execution_count": 119,
   "id": "aa36e3e2",
   "metadata": {},
   "outputs": [],
   "source": [
    "#In the code model=regression.fit(X, y), a DecisionTreeRegressor model is created and trained on a dataset consisting of input features X and target values y.\n",
    "model=regression.fit(X,y)"
   ]
  },
  {
   "cell_type": "code",
   "execution_count": 120,
   "id": "4d968527",
   "metadata": {},
   "outputs": [
    {
     "data": {
      "text/html": [
       "<div>\n",
       "<style scoped>\n",
       "    .dataframe tbody tr th:only-of-type {\n",
       "        vertical-align: middle;\n",
       "    }\n",
       "\n",
       "    .dataframe tbody tr th {\n",
       "        vertical-align: top;\n",
       "    }\n",
       "\n",
       "    .dataframe thead th {\n",
       "        text-align: right;\n",
       "    }\n",
       "</style>\n",
       "<table border=\"1\" class=\"dataframe\">\n",
       "  <thead>\n",
       "    <tr style=\"text-align: right;\">\n",
       "      <th></th>\n",
       "      <th>features</th>\n",
       "      <th>importance</th>\n",
       "    </tr>\n",
       "  </thead>\n",
       "  <tbody>\n",
       "    <tr>\n",
       "      <th>0</th>\n",
       "      <td>Frequency</td>\n",
       "      <td>0.391944</td>\n",
       "    </tr>\n",
       "    <tr>\n",
       "      <th>1</th>\n",
       "      <td>Angle_of_attack</td>\n",
       "      <td>0.051075</td>\n",
       "    </tr>\n",
       "    <tr>\n",
       "      <th>2</th>\n",
       "      <td>Chord_length</td>\n",
       "      <td>0.101228</td>\n",
       "    </tr>\n",
       "    <tr>\n",
       "      <th>3</th>\n",
       "      <td>Free_stream_velocity</td>\n",
       "      <td>0.042219</td>\n",
       "    </tr>\n",
       "    <tr>\n",
       "      <th>4</th>\n",
       "      <td>Suction_side_displacement_thickness</td>\n",
       "      <td>0.413534</td>\n",
       "    </tr>\n",
       "  </tbody>\n",
       "</table>\n",
       "</div>"
      ],
      "text/plain": [
       "                              features  importance\n",
       "0                            Frequency    0.391944\n",
       "1                      Angle_of_attack    0.051075\n",
       "2                         Chord_length    0.101228\n",
       "3                 Free_stream_velocity    0.042219\n",
       "4  Suction_side_displacement_thickness    0.413534"
      ]
     },
     "execution_count": 120,
     "metadata": {},
     "output_type": "execute_result"
    }
   ],
   "source": [
    "pd.DataFrame({'features':model.feature_names_in_, 'importance':model.feature_importances_})"
   ]
  },
  {
   "cell_type": "code",
   "execution_count": 121,
   "id": "905512ff",
   "metadata": {},
   "outputs": [],
   "source": [
    "# export the decision tree to a tree.dot file\n",
    "# for visualizing the plot easily anywhere\n",
    "export_graphviz(model, out_file ='tree.dot',\n",
    "feature_names = [' Frequency', ' Angle_of_attack', ' Chord_length',\n",
    "       ' Free_stream_velocity', 'Suction_side_displacement_thickness'])"
   ]
  },
  {
   "cell_type": "code",
   "execution_count": 122,
   "id": "b9502b77",
   "metadata": {},
   "outputs": [],
   "source": [
    "# method 1 to visualize decision tree"
   ]
  },
  {
   "cell_type": "code",
   "execution_count": 123,
   "id": "9e692137",
   "metadata": {},
   "outputs": [],
   "source": [
    "# tree is exported to a word compatible .dot file. Open in MS Word. Copy the full structure.\n",
    "# go to http://www.webgraphviz.com/ \n",
    "# paste in the textbox and click generate"
   ]
  },
  {
   "cell_type": "code",
   "execution_count": 124,
   "id": "81a3e050",
   "metadata": {},
   "outputs": [],
   "source": [
    "# method 2 to visualize decision tree"
   ]
  },
  {
   "cell_type": "raw",
   "id": "120bfd59",
   "metadata": {},
   "source": [
    "the filled and rounded parameters are set to True to create a more visually appealing tree. The fontsize parameter is set to 10 to increase the size of the text inside the nodes, and the impurity parameter is set to False to remove the display of the impurity measure. By default, scikit-learn sets the impurity measure in the bottom right of each node, which can take up valuable space and make the tree harder to read. By removing this measure, you can make the nodes larger and easier to read."
   ]
  },
  {
   "cell_type": "code",
   "execution_count": 125,
   "id": "a7dbb3f5",
   "metadata": {},
   "outputs": [
    {
     "data": {
      "text/plain": [
       "[Text(0.5, 0.875, ' Frequency <= 3575.0\\nsquared_error = 47.56\\nsamples = 1503\\nvalue = 124.836'),\n",
       " Text(0.25, 0.625, 'Suction_side_displacement_thickness <= 0.016\\nsquared_error = 32.08\\nsamples = 1079\\nvalue = 126.57'),\n",
       " Text(0.125, 0.375, ' Chord_length <= 0.127\\nsquared_error = 22.209\\nsamples = 769\\nvalue = 127.85'),\n",
       " Text(0.0625, 0.125, '\\n  (...)  \\n'),\n",
       " Text(0.1875, 0.125, '\\n  (...)  \\n'),\n",
       " Text(0.375, 0.375, 'Suction_side_displacement_thickness <= 0.051\\nsquared_error = 42.399\\nsamples = 310\\nvalue = 123.392'),\n",
       " Text(0.3125, 0.125, '\\n  (...)  \\n'),\n",
       " Text(0.4375, 0.125, '\\n  (...)  \\n'),\n",
       " Text(0.75, 0.625, 'Suction_side_displacement_thickness <= 0.002\\nsquared_error = 59.842\\nsamples = 424\\nvalue = 120.424'),\n",
       " Text(0.625, 0.375, ' Frequency <= 7150.0\\nsquared_error = 31.041\\nsamples = 112\\nvalue = 129.412'),\n",
       " Text(0.5625, 0.125, '\\n  (...)  \\n'),\n",
       " Text(0.6875, 0.125, '\\n  (...)  \\n'),\n",
       " Text(0.875, 0.375, 'Suction_side_displacement_thickness <= 0.035\\nsquared_error = 30.775\\nsamples = 312\\nvalue = 117.198'),\n",
       " Text(0.8125, 0.125, '\\n  (...)  \\n'),\n",
       " Text(0.9375, 0.125, '\\n  (...)  \\n')]"
      ]
     },
     "execution_count": 125,
     "metadata": {},
     "output_type": "execute_result"
    },
    {
     "data": {
      "image/png": "[encoded data removed]",
      "text/plain": [
       "<Figure size 1500x1200 with 1 Axes>"
      ]
     },
     "metadata": {},
     "output_type": "display_data"
    }
   ],
   "source": [
    "plt.figure(figsize=(10, 8),dpi=150)\n",
    "plot_tree(model, feature_names=X.columns, max_depth=2,filled=True, rounded=True,fontsize=6)\n"
   ]
  },
  {
   "cell_type": "code",
   "execution_count": 126,
   "id": "d1dccaf2",
   "metadata": {},
   "outputs": [
    {
     "data": {
      "text/plain": [
       "7"
      ]
     },
     "execution_count": 126,
     "metadata": {},
     "output_type": "execute_result"
    }
   ],
   "source": [
    "from sklearn.model_selection import cross_val_score\n",
    "\n",
    "# Create a range of possible depths to test\n",
    "depths = range(1, 10)\n",
    "\n",
    "# Use cross-validation to test each depth\n",
    "cv_scores = []\n",
    "for depth in depths:\n",
    "    model = DecisionTreeRegressor(max_depth=depth, random_state=0)\n",
    "    scores = cross_val_score(model, X, y, cv=5)\n",
    "    cv_scores.append(scores.mean())\n",
    "\n",
    "# Find the optimal depth that gives the highest cross-validation score\n",
    "optimal_depth = depths[cv_scores.index(max(cv_scores))]\n",
    "optimal_depth\n"
   ]
  },
  {
   "cell_type": "raw",
   "id": "5748a53f",
   "metadata": {},
   "source": [
    "a range of possible depths from 1 to 10 is tested using 10-fold cross-validation. For each depth, a new DecisionTreeRegressor model is created with that depth and trained using cross-validation. The average cross-validation score is recorded for each depth, and the optimal depth is chosen as the one that gives the highest cross-validation score.\n",
    "\n",
    "Once you have determined the optimal tree depth, you can create a new DecisionTreeRegressor model with that depth and train it on the entire dataset. "
   ]
  },
  {
   "cell_type": "code",
   "execution_count": 145,
   "id": "7477bd2a",
   "metadata": {},
   "outputs": [],
   "source": [
    "# split data into train and test \n",
    "from sklearn.model_selection import train_test_split\n",
    "\n",
    "# split data into train and test in 80:20 ratio\n",
    "X_train, X_test, y_train, y_test = train_test_split(X, y, test_size=0.2, random_state=0)\n",
    "\n",
    "# The above code will split the data into 80% training and 20% testing datasets.\n",
    "# The 'random_state' parameter ensures that the random splitting is reproducible.\n"
   ]
  },
  {
   "cell_type": "code",
   "execution_count": 146,
   "id": "22a5e8bb",
   "metadata": {},
   "outputs": [
    {
     "data": {
      "text/plain": [
       "(1202, 5)"
      ]
     },
     "execution_count": 146,
     "metadata": {},
     "output_type": "execute_result"
    }
   ],
   "source": [
    "X_train.shape\n",
    "\n"
   ]
  },
  {
   "cell_type": "code",
   "execution_count": 147,
   "id": "152b59a5",
   "metadata": {},
   "outputs": [
    {
     "data": {
      "text/plain": [
       "(301, 5)"
      ]
     },
     "execution_count": 147,
     "metadata": {},
     "output_type": "execute_result"
    }
   ],
   "source": [
    "X_test.shape"
   ]
  },
  {
   "cell_type": "code",
   "execution_count": 148,
   "id": "7a00396e",
   "metadata": {},
   "outputs": [
    {
     "data": {
      "text/plain": [
       "(1202,)"
      ]
     },
     "execution_count": 148,
     "metadata": {},
     "output_type": "execute_result"
    }
   ],
   "source": [
    "y_train.shape"
   ]
  },
  {
   "cell_type": "code",
   "execution_count": 149,
   "id": "08448a3b",
   "metadata": {},
   "outputs": [
    {
     "data": {
      "text/plain": [
       "(301,)"
      ]
     },
     "execution_count": 149,
     "metadata": {},
     "output_type": "execute_result"
    }
   ],
   "source": [
    "y_test.shape\n"
   ]
  },
  {
   "cell_type": "code",
   "execution_count": 150,
   "id": "0be042ed",
   "metadata": {},
   "outputs": [
    {
     "data": {
      "text/html": [
       "<div>\n",
       "<style scoped>\n",
       "    .dataframe tbody tr th:only-of-type {\n",
       "        vertical-align: middle;\n",
       "    }\n",
       "\n",
       "    .dataframe tbody tr th {\n",
       "        vertical-align: top;\n",
       "    }\n",
       "\n",
       "    .dataframe thead th {\n",
       "        text-align: right;\n",
       "    }\n",
       "</style>\n",
       "<table border=\"1\" class=\"dataframe\">\n",
       "  <thead>\n",
       "    <tr style=\"text-align: right;\">\n",
       "      <th></th>\n",
       "      <th>Frequency</th>\n",
       "      <th>Angle_of_attack</th>\n",
       "      <th>Chord_length</th>\n",
       "      <th>Free_stream_velocity</th>\n",
       "      <th>Suction_side_displacement_thickness</th>\n",
       "    </tr>\n",
       "  </thead>\n",
       "  <tbody>\n",
       "    <tr>\n",
       "      <th>1058</th>\n",
       "      <td>800</td>\n",
       "      <td>9.5</td>\n",
       "      <td>0.0254</td>\n",
       "      <td>71.3</td>\n",
       "      <td>0.004207</td>\n",
       "    </tr>\n",
       "    <tr>\n",
       "      <th>408</th>\n",
       "      <td>315</td>\n",
       "      <td>7.3</td>\n",
       "      <td>0.2286</td>\n",
       "      <td>55.5</td>\n",
       "      <td>0.011171</td>\n",
       "    </tr>\n",
       "    <tr>\n",
       "      <th>703</th>\n",
       "      <td>2000</td>\n",
       "      <td>12.6</td>\n",
       "      <td>0.1524</td>\n",
       "      <td>71.3</td>\n",
       "      <td>0.048316</td>\n",
       "    </tr>\n",
       "    <tr>\n",
       "      <th>1279</th>\n",
       "      <td>8000</td>\n",
       "      <td>0.0</td>\n",
       "      <td>0.1016</td>\n",
       "      <td>39.6</td>\n",
       "      <td>0.001463</td>\n",
       "    </tr>\n",
       "    <tr>\n",
       "      <th>140</th>\n",
       "      <td>6300</td>\n",
       "      <td>3.0</td>\n",
       "      <td>0.3048</td>\n",
       "      <td>39.6</td>\n",
       "      <td>0.004957</td>\n",
       "    </tr>\n",
       "  </tbody>\n",
       "</table>\n",
       "</div>"
      ],
      "text/plain": [
       "       Frequency   Angle_of_attack   Chord_length   Free_stream_velocity  \\\n",
       "1058         800               9.5         0.0254                   71.3   \n",
       "408          315               7.3         0.2286                   55.5   \n",
       "703         2000              12.6         0.1524                   71.3   \n",
       "1279        8000               0.0         0.1016                   39.6   \n",
       "140         6300               3.0         0.3048                   39.6   \n",
       "\n",
       "      Suction_side_displacement_thickness  \n",
       "1058                             0.004207  \n",
       "408                              0.011171  \n",
       "703                              0.048316  \n",
       "1279                             0.001463  \n",
       "140                              0.004957  "
      ]
     },
     "execution_count": 150,
     "metadata": {},
     "output_type": "execute_result"
    }
   ],
   "source": [
    "X_train.head()"
   ]
  },
  {
   "cell_type": "code",
   "execution_count": 151,
   "id": "a35823ac",
   "metadata": {},
   "outputs": [],
   "source": [
    "regression =DecisionTreeRegressor(random_state=0,max_depth=7)"
   ]
  },
  {
   "cell_type": "code",
   "execution_count": 152,
   "id": "d2fd71ab",
   "metadata": {},
   "outputs": [],
   "source": [
    "model=regression.fit(X_train,y_train)"
   ]
  },
  {
   "cell_type": "code",
   "execution_count": 153,
   "id": "ae63bf7f",
   "metadata": {},
   "outputs": [
    {
     "data": {
      "text/html": [
       "<div>\n",
       "<style scoped>\n",
       "    .dataframe tbody tr th:only-of-type {\n",
       "        vertical-align: middle;\n",
       "    }\n",
       "\n",
       "    .dataframe tbody tr th {\n",
       "        vertical-align: top;\n",
       "    }\n",
       "\n",
       "    .dataframe thead th {\n",
       "        text-align: right;\n",
       "    }\n",
       "</style>\n",
       "<table border=\"1\" class=\"dataframe\">\n",
       "  <thead>\n",
       "    <tr style=\"text-align: right;\">\n",
       "      <th></th>\n",
       "      <th>features</th>\n",
       "      <th>importance</th>\n",
       "    </tr>\n",
       "  </thead>\n",
       "  <tbody>\n",
       "    <tr>\n",
       "      <th>0</th>\n",
       "      <td>Frequency</td>\n",
       "      <td>0.372104</td>\n",
       "    </tr>\n",
       "    <tr>\n",
       "      <th>1</th>\n",
       "      <td>Angle_of_attack</td>\n",
       "      <td>0.034422</td>\n",
       "    </tr>\n",
       "    <tr>\n",
       "      <th>2</th>\n",
       "      <td>Chord_length</td>\n",
       "      <td>0.090146</td>\n",
       "    </tr>\n",
       "    <tr>\n",
       "      <th>3</th>\n",
       "      <td>Free_stream_velocity</td>\n",
       "      <td>0.023345</td>\n",
       "    </tr>\n",
       "    <tr>\n",
       "      <th>4</th>\n",
       "      <td>Suction_side_displacement_thickness</td>\n",
       "      <td>0.479984</td>\n",
       "    </tr>\n",
       "  </tbody>\n",
       "</table>\n",
       "</div>"
      ],
      "text/plain": [
       "                              features  importance\n",
       "0                            Frequency    0.372104\n",
       "1                      Angle_of_attack    0.034422\n",
       "2                         Chord_length    0.090146\n",
       "3                 Free_stream_velocity    0.023345\n",
       "4  Suction_side_displacement_thickness    0.479984"
      ]
     },
     "execution_count": 153,
     "metadata": {},
     "output_type": "execute_result"
    }
   ],
   "source": [
    "pd.DataFrame({'features':model.feature_names_in_, 'importance':model.feature_importances_})"
   ]
  },
  {
   "cell_type": "code",
   "execution_count": 154,
   "id": "8482be6a",
   "metadata": {},
   "outputs": [
    {
     "name": "stdout",
     "output_type": "stream",
     "text": [
      "Mean squared error: 7.75\n"
     ]
    }
   ],
   "source": [
    "from sklearn.metrics import mean_squared_error\n",
    "from sklearn.tree import DecisionTreeRegressor\n",
    "\n",
    "# Create a decision tree regression model and fit it to the training data\n",
    "regression =DecisionTreeRegressor(random_state=0,max_depth=7)\n",
    "regression.fit(X_train, y_train)\n",
    "\n",
    "# Predict on the train set\n",
    "y_pred = regression.predict(X_train)\n",
    "\n",
    "# Calculate mean squared error\n",
    "mse = mean_squared_error(y_train, y_pred)\n",
    "\n",
    "# Print the MSE\n",
    "print(\"Mean squared error: {:.2f}\".format(mse))\n"
   ]
  },
  {
   "cell_type": "code",
   "execution_count": 155,
   "id": "f1565af9",
   "metadata": {},
   "outputs": [
    {
     "name": "stdout",
     "output_type": "stream",
     "text": [
      "Mean squared error: 10.24\n"
     ]
    }
   ],
   "source": [
    "# Predict on the test set\n",
    "y_pred = regression.predict(X_test)\n",
    "\n",
    "# Calculate mean squared error\n",
    "mse = mean_squared_error(y_test, y_pred)\n",
    "\n",
    "# Print the MSE\n",
    "print(\"Mean squared error: {:.2f}\".format(mse))"
   ]
  },
  {
   "cell_type": "raw",
   "id": "30d52b0b",
   "metadata": {},
   "source": [
    "MSE = (1/n) * Σ(y_test - y_pred)^2\n"
   ]
  },
  {
   "cell_type": "code",
   "execution_count": null,
   "id": "9066d498",
   "metadata": {},
   "outputs": [],
   "source": [
    "# both train and test mse are consistent\n"
   ]
  }
 ],
 "metadata": {
  "kernelspec": {
   "display_name": "Python 3 (ipykernel)",
   "language": "python",
   "name": "python3"
  },
  "language_info": {
   "codemirror_mode": {
    "name": "ipython",
    "version": 3
   },
   "file_extension": ".py",
   "mimetype": "text/x-python",
   "name": "python",
   "nbconvert_exporter": "python",
   "pygments_lexer": "ipython3",
   "version": "3.9.13"
  }
 },
 "nbformat": 4,
 "nbformat_minor": 5
}
